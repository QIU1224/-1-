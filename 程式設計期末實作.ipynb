{
  "nbformat": 4,
  "nbformat_minor": 0,
  "metadata": {
    "colab": {
      "provenance": []
    },
    "kernelspec": {
      "name": "python3",
      "display_name": "Python 3"
    },
    "language_info": {
      "name": "python"
    }
  },
  "cells": [
    {
      "cell_type": "code",
      "source": [
        "from itertools import permutations\n",
        "\n",
        "class City:\n",
        "    def __init__(self, name, coordinate, cost):\n",
        "        self.name = name\n",
        "        self.x = coordinate[0]\n",
        "        self.y = coordinate[1]\n",
        "        self.cost = cost\n",
        "    \n",
        "def discount(cur_city, pre_city):\n",
        "    discount_cities = {\n",
        "        'A': ['C', 'G'],\n",
        "        'B': ['D', 'E'],\n",
        "        'C': ['G', 'A'],\n",
        "        'D': ['A', 'B'],\n",
        "        'E': ['B', 'F'],\n",
        "        'F': ['A', 'C'],\n",
        "        'G': ['E', 'F']\n",
        "    }\n",
        "    if pre_city in discount_cities[cur_city.name]:\n",
        "        return int(cur_city.cost * 0.8)\n",
        "    return cur_city.cost\n",
        "\n",
        "# Create city objects\n",
        "cities = [\n",
        "    City('A', (0, 0), 2000),\n",
        "    City('B', (0, 120), 2400),\n",
        "    City('C', (30, 100), 2400),\n",
        "    City('D', (80, 0), 1600),\n",
        "    City('E', (45, 10), 1500),\n",
        "    City('F', (90, 160), 2200),\n",
        "    City('G', (120, 200), 1200)\n",
        "]\n",
        "\n",
        "# Generate all possible travel permutations\n",
        "travels = list(permutations(cities))\n",
        "result = []\n",
        "\n",
        "for travel in travels:\n",
        "    expense = travel[0].cost  # First city (only add accommodation cost)\n",
        "    for i in range(1, len(travel)):\n",
        "        expense += discount(travel[i], travel[i - 1])  # Add discounted accommodation cost\n",
        "        distance = ((travel[i].x - travel[i - 1].x) ** 2 + (travel[i].y - travel[i - 1].y) ** 2) ** 0.5\n",
        "        fuel_cost = distance * 100\n",
        "        expense += fuel_cost  # Add fuel cost\n",
        "    result.append([\"\".join([city.name for city in travel]), expense])\n",
        "\n",
        "# Find the minimum cost\n",
        "ans = min(result, key=lambda x: x[1])\n",
        "\n",
        "# Output\n",
        "print(f\"遊歷順序: {ans[0]}\")\n",
        "print(f\"旅費: {ans[1]:.2f}元\")\n"
      ],
      "metadata": {
        "colab": {
          "base_uri": "https://localhost:8080/"
        },
        "id": "GNVsdE_GFLwp",
        "outputId": "8fa026f4-ddb3-445c-8992-c6c5a5eaaf32"
      },
      "execution_count": 6,
      "outputs": [
        {
          "output_type": "stream",
          "name": "stdout",
          "text": [
            "遊歷順序: GFBCAED\n",
            "旅費: 50444.54元\n"
          ]
        }
      ]
    }
  ]
}